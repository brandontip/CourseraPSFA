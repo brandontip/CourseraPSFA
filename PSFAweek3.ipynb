{
 "cells": [
  {
   "cell_type": "markdown",
   "metadata": {},
   "source": [
    "We explore populations/samples, variation of samples, confidence intervals, and hypothesis testing"
   ]
  },
  {
   "cell_type": "code",
   "execution_count": 1,
   "metadata": {},
   "outputs": [],
   "source": [
    "import pandas as pd\n",
    "import numpy as np\n",
    "from scipy.stats import norm"
   ]
  },
  {
   "cell_type": "code",
   "execution_count": 5,
   "metadata": {},
   "outputs": [],
   "source": [
    "data=pd.DataFrame()\n",
    "data['Population']=[47,48,85,20,19,13,72,16,50,60]"
   ]
  },
  {
   "cell_type": "code",
   "execution_count": 6,
   "metadata": {},
   "outputs": [],
   "source": [
    "smplWORepl=data['Population'].sample(5,replace=False)\n",
    "smplWRepl=data['Population'].sample(5,replace=True)\n",
    "#sample comes from PANDAS"
   ]
  },
  {
   "cell_type": "code",
   "execution_count": 7,
   "metadata": {},
   "outputs": [
    {
     "name": "stdout",
     "output_type": "stream",
     "text": [
      "1    48\n",
      "8    50\n",
      "3    20\n",
      "0    47\n",
      "7    16\n",
      "Name: Population, dtype: int64\n"
     ]
    }
   ],
   "source": [
    "print(smplWORepl)"
   ]
  },
  {
   "cell_type": "code",
   "execution_count": 8,
   "metadata": {},
   "outputs": [
    {
     "name": "stdout",
     "output_type": "stream",
     "text": [
      "2    85\n",
      "6    72\n",
      "2    85\n",
      "7    16\n",
      "8    50\n",
      "Name: Population, dtype: int64\n"
     ]
    }
   ],
   "source": [
    "print(smplWRepl)"
   ]
  },
  {
   "cell_type": "code",
   "execution_count": 6,
   "metadata": {},
   "outputs": [
    {
     "name": "stdout",
     "output_type": "stream",
     "text": [
      "43.0\n"
     ]
    }
   ],
   "source": [
    "print(data['Population'].mean())"
   ]
  },
  {
   "cell_type": "code",
   "execution_count": 13,
   "metadata": {},
   "outputs": [
    {
     "name": "stdout",
     "output_type": "stream",
     "text": [
      "854.3\n"
     ]
    }
   ],
   "source": [
    "#remember, the sample variance gets divided by n-1 (Bessel's correction), we can impliment this using ddof\n",
    "print(smplWRepl.var(ddof=1))"
   ]
  },
  {
   "cell_type": "code",
   "execution_count": 14,
   "metadata": {},
   "outputs": [
    {
     "name": "stdout",
     "output_type": "stream",
     "text": [
      "683.4399999999999\n"
     ]
    }
   ],
   "source": [
    "print(smplWRepl.var(ddof=0))"
   ]
  },
  {
   "cell_type": "markdown",
   "metadata": {},
   "source": [
    "We further explore variance"
   ]
  },
  {
   "cell_type": "code",
   "execution_count": 9,
   "metadata": {},
   "outputs": [
    {
     "name": "stdout",
     "output_type": "stream",
     "text": [
      "sample mean is 9.603007478190905\n",
      "sample SD is 5.836726788655038\n"
     ]
    }
   ],
   "source": [
    "FastSample=pd.DataFrame(np.random.normal(10,5,size=30))\n",
    "print('sample mean is', FastSample[0].mean())\n",
    "print('sample SD is', FastSample[0].std(ddof=1))\n"
   ]
  },
  {
   "cell_type": "code",
   "execution_count": 15,
   "metadata": {},
   "outputs": [],
   "source": [
    "meanlist=[]\n",
    "varlist=[]\n",
    "for i in range(1000):\n",
    "    sample=pd.DataFrame(np.random.normal(10,5,size=30))\n",
    "    meanlist.append(sample[0].mean())\n",
    "    varlist.append(sample[0].var(ddof=1))"
   ]
  },
  {
   "cell_type": "code",
   "execution_count": 16,
   "metadata": {},
   "outputs": [],
   "source": [
    "collection=pd.DataFrame()\n",
    "collection['meanlist']=meanlist\n",
    "collection['varlist']=varlist"
   ]
  },
  {
   "cell_type": "code",
   "execution_count": 17,
   "metadata": {},
   "outputs": [
    {
     "data": {
      "text/plain": [
       "<matplotlib.axes._subplots.AxesSubplot at 0x228023f88c8>"
      ]
     },
     "execution_count": 17,
     "metadata": {},
     "output_type": "execute_result"
    },
    {
     "data": {
      "image/png": "[encoded data removed]",
      "text/plain": [
       "<Figure size 432x288 with 1 Axes>"
      ]
     },
     "metadata": {
      "needs_background": "light"
     },
     "output_type": "display_data"
    }
   ],
   "source": [
    "collection['meanlist'].hist(bins=500, density=1)"
   ]
  },
  {
   "cell_type": "code",
   "execution_count": 18,
   "metadata": {},
   "outputs": [
    {
     "data": {
      "text/plain": [
       "<matplotlib.axes._subplots.AxesSubplot at 0x228024333c8>"
      ]
     },
     "execution_count": 18,
     "metadata": {},
     "output_type": "execute_result"
    },
    {
     "data": {
      "image/png": "[encoded data removed]",
      "text/plain": [
       "<Figure size 432x288 with 1 Axes>"
      ]
     },
     "metadata": {
      "needs_background": "light"
     },
     "output_type": "display_data"
    }
   ],
   "source": [
    "collection['varlist'].hist(bins=500, density=1)"
   ]
  },
  {
   "cell_type": "markdown",
   "metadata": {},
   "source": [
    "Notice the variance is skewed lift: sample mean will have smaller variance than population."
   ]
  },
  {
   "cell_type": "markdown",
   "metadata": {},
   "source": [
    "Confidence intervals:"
   ]
  },
  {
   "cell_type": "markdown",
   "metadata": {},
   "source": [
    "We standardize our distribution:\n",
    "\\begin{equation}\n",
    "        Z=\\frac{\\overline{x}-\\mu}{\\frac{\\sigma}{\\sqrt{n}}}\n",
    "\\end{equation}"
   ]
  },
  {
   "cell_type": "code",
   "execution_count": 44,
   "metadata": {},
   "outputs": [
    {
     "name": "stdout",
     "output_type": "stream",
     "text": [
      "796\n"
     ]
    }
   ],
   "source": [
    "counter=0\n",
    "for i in range(1000):\n",
    "    zleft=norm.ppf(.1)\n",
    "    zright=norm.ppf(.9)\n",
    "    #this gives 80% confidence interval\n",
    "    FastSample2=pd.DataFrame(np.random.normal(10,5,size=30))\n",
    "    sample_mean=FastSample2[0].mean()\n",
    "    sample_std=FastSample2[0].std(ddof=1)/(FastSample2.shape[0]**.5)\n",
    "    intervalLeft=sample_mean+zleft*sample_std\n",
    "    intervalRight=sample_mean+zright*sample_std\n",
    "    if intervalLeft < 10 and intervalRight > 10:\n",
    "        counter+=1\n",
    "print(counter)        \n",
    "\n"
   ]
  },
  {
   "cell_type": "markdown",
   "metadata": {},
   "source": [
    "80% confidence interval means: 80% of the time, the true mean will fall in this interval\n"
   ]
  },
  {
   "cell_type": "code",
   "execution_count": 4,
   "metadata": {},
   "outputs": [
    {
     "data": {
      "text/plain": [
       "0     14.804057\n",
       "1      9.894308\n",
       "2     10.758791\n",
       "3     15.458050\n",
       "4     10.477260\n",
       "5      4.780669\n",
       "6     16.328523\n",
       "7     18.213643\n",
       "8     11.931268\n",
       "9     12.047321\n",
       "10    14.904894\n",
       "11    12.390632\n",
       "12     9.511644\n",
       "13    16.414569\n",
       "14    10.696797\n",
       "15     2.626725\n",
       "16     2.343628\n",
       "17    12.857644\n",
       "18     5.239689\n",
       "19    13.163631\n",
       "20    13.110792\n",
       "21    10.942706\n",
       "22    13.901008\n",
       "23    15.979881\n",
       "24    13.118509\n",
       "25     1.635518\n",
       "26     8.665966\n",
       "27     7.244393\n",
       "28    16.782525\n",
       "29    14.497332\n",
       "Name: 0, dtype: float64"
      ]
     },
     "execution_count": 4,
     "metadata": {},
     "output_type": "execute_result"
    }
   ],
   "source": [
    "FastSample2[0]"
   ]
  },
  {
   "cell_type": "markdown",
   "metadata": {},
   "source": [
    "Hypothesis testing:"
   ]
  },
  {
   "cell_type": "code",
   "execution_count": null,
   "metadata": {},
   "outputs": [],
   "source": []
  }
 ],
 "metadata": {
  "kernelspec": {
   "display_name": "Python 3",
   "language": "python",
   "name": "python3"
  },
  "language_info": {
   "codemirror_mode": {
    "name": "ipython",
    "version": 3
   },
   "file_extension": ".py",
   "mimetype": "text/x-python",
   "name": "python",
   "nbconvert_exporter": "python",
   "pygments_lexer": "ipython3",
   "version": "3.7.6"
  }
 },
 "nbformat": 4,
 "nbformat_minor": 4
}
